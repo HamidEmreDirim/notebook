{
 "cells": [
  {
   "cell_type": "markdown",
   "metadata": {
    "collapsed": true
   },
   "source": [
    "<h1> My Jupyter Notebook on IBM Watson Studio </h1>"
   ]
  },
  {
   "cell_type": "markdown",
   "metadata": {},
   "source": [
    "<strong> Hamid Emre Dirim </strong>\n"
   ]
  },
  {
   "cell_type": "markdown",
   "metadata": {},
   "source": [
    "I want to be a data scientist"
   ]
  },
  {
   "cell_type": "markdown",
   "metadata": {},
   "source": [
    "* I am interested in data science because it pays good and its highly related with math wich is one of the best subject of mine. *"
   ]
  },
  {
   "cell_type": "markdown",
   "metadata": {},
   "source": [
    "<h3> This code will print what I feel to you. </h3>"
   ]
  },
  {
   "cell_type": "code",
   "execution_count": 5,
   "metadata": {},
   "outputs": [
    {
     "name": "stdout",
     "output_type": "stream",
     "text": [
      "<3 <3 <3\n"
     ]
    }
   ],
   "source": [
    "print(\"<3 <3 <3\")"
   ]
  },
  {
   "cell_type": "markdown",
   "metadata": {},
   "source": [
    "<hr> \n",
    "\n",
    "<ul>\n",
    "  <li>first element</li>\n",
    "  <li>second element</li>\n",
    "  <li>third element</li>\n",
    "</ul>\n",
    "\n",
    "<ol>\n",
    "  <li>Mix flour, baking powder, sugar, and salt.</li>\n",
    "  <li>In another bowl, mix eggs, milk, and oil.</li>\n",
    "  <li>Stir both mixtures together.</li>\n",
    "  <li>Fill muffin tray 3/4 full.</li>\n",
    "  <li>Bake for 20 minutes.</li>\n",
    "</ol>\n",
    "\n",
    "<table border=\"1\">\n",
    "\t<tr>\n",
    "\t\t<td>Rangée 1 Cellule 1</td>\n",
    "\t\t<td>Rangée 1 Cellule 2</td>\n",
    "\t</tr>\n",
    "\t<tr>\n",
    "\t\t<td>Rangée 2 Cellule 1</td>\n",
    "\t\t<td>Rangée 2 Cellule 2</td>\n",
    "\t</tr>\n",
    "</table>\n"
   ]
  },
  {
   "cell_type": "code",
   "execution_count": null,
   "metadata": {},
   "outputs": [],
   "source": []
  }
 ],
 "metadata": {
  "kernelspec": {
   "display_name": "Python 3.10",
   "language": "python",
   "name": "python3"
  },
  "language_info": {
   "codemirror_mode": {
    "name": "ipython",
    "version": 3
   },
   "file_extension": ".py",
   "mimetype": "text/x-python",
   "name": "python",
   "nbconvert_exporter": "python",
   "pygments_lexer": "ipython3",
   "version": "3.10.9"
  }
 },
 "nbformat": 4,
 "nbformat_minor": 1
}
